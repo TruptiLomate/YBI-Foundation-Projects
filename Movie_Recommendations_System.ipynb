{
  "nbformat": 4,
  "nbformat_minor": 0,
  "metadata": {
    "colab": {
      "provenance": [],
      "authorship_tag": "ABX9TyPHA2WFA+Y1hXGOHbHEzgr5",
      "include_colab_link": true
    },
    "kernelspec": {
      "name": "python3",
      "display_name": "Python 3"
    },
    "language_info": {
      "name": "python"
    }
  },
  "cells": [
    {
      "cell_type": "markdown",
      "metadata": {
        "id": "view-in-github",
        "colab_type": "text"
      },
      "source": [
        "<a href=\"https://colab.research.google.com/github/TruptiLomate/YBI-Foundation-Projects/blob/main/Movie_Recommendations_System.ipynb\" target=\"_parent\"><img src=\"https://colab.research.google.com/assets/colab-badge.svg\" alt=\"Open In Colab\"/></a>"
      ]
    },
    {
      "cell_type": "code",
      "execution_count": null,
      "metadata": {
        "id": "n0gXQEJsUcw9"
      },
      "outputs": [],
      "source": [
        "# Import necessary libraries\n",
        "import pandas as pd\n",
        "from sklearn.metrics.pairwise import cosine_similarity\n",
        "from sklearn.preprocessing import StandardScaler\n",
        "\n",
        "# Load the dataset\n",
        "# Assuming you have a dataset with columns: 'user_id', 'movie_id', and 'rating'\n",
        "# If not, use a dataset like MovieLens and adapt as needed.\n",
        "ratings = pd.read_csv('ratings.csv')\n",
        "movies = pd.read_csv('movies.csv')\n",
        "\n",
        "# Merge ratings and movies data for a complete dataset\n",
        "data = pd.merge(ratings, movies, on='movie_id')\n",
        "\n",
        "# Create a user-item matrix (pivot table with users as rows, movies as columns)\n",
        "user_movie_matrix = data.pivot_table(index='user_id', columns='movie_id', values='rating')\n",
        "\n",
        "# Fill NaN values with 0 (if needed)\n",
        "user_movie_matrix.fillna(0, inplace=True)\n",
        "\n",
        "# Standardize the matrix for better performance in similarity calculation\n",
        "scaler = StandardScaler()\n",
        "user_movie_matrix_std = scaler.fit_transform(user_movie_matrix)\n",
        "\n",
        "# Calculate the Cosine Similarity\n",
        "cosine_sim = cosine_similarity(user_movie_matrix_std)\n",
        "cosine_sim_df = pd.DataFrame(cosine_sim, index=user_movie_matrix.index, columns=user_movie_matrix.index)\n",
        "\n",
        "# Function to get recommendations\n",
        "def recommend_movies(user_id, num_recommendations=5):\n",
        "    # Get similarity scores for the given user\n",
        "    user_sim_scores = cosine_sim_df[user_id].sort_values(ascending=False)\n",
        "\n",
        "    # Get the top similar users\n",
        "    top_users = user_sim_scores.iloc[1:num_recommendations+1].index\n",
        "\n",
        "    # Collect all movies rated by the top users\n",
        "    recommended_movies = user_movie_matrix.loc[top_users].mean().sort_values(ascending=False)\n",
        "\n",
        "    # Filter out movies the user has already rated\n",
        "    user_rated_movies = user_movie_matrix.loc[user_id]\n",
        "    recommended_movies = recommended_movies[user_rated_movies.isna()]\n",
        "\n",
        "    # Get top N recommendations\n",
        "    return recommended_movies.head(num_recommendations)\n",
        "\n",
        "# Test the function for a specific user\n",
        "user_id = 1  # Change this to test for different users\n",
        "recommendations = recommend_movies(user_id)\n",
        "print(\"Recommended Movies for User\", user_id)\n",
        "print(recommendations)"
      ]
    }
  ]
}